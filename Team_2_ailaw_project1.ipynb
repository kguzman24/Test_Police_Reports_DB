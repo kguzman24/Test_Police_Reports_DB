{
  "nbformat": 4,
  "nbformat_minor": 0,
  "metadata": {
    "colab": {
      "provenance": []
    },
    "kernelspec": {
      "name": "python3",
      "display_name": "Python 3"
    },
    "language_info": {
      "name": "python"
    }
  },
  "cells": [
    {
      "cell_type": "markdown",
      "source": [
        "## Creating our dataset"
      ],
      "metadata": {
        "id": "zOFCZTOv1P40"
      }
    },
    {
      "cell_type": "markdown",
      "source": [
        "## Building the Bias Scale\n"
      ],
      "metadata": {
        "id": "BsZ5G39bk9QN"
      }
    },
    {
      "cell_type": "code",
      "source": [
        "# TODOs for Bias Scale\n",
        "# - outline three tier categories (neutral, subjective, and language undermining direct legal elements of mpc.)\n",
        "# - use linguistics research to determine what types of phrases should be in what tier \n",
        "# - decide scoring or labeling logic. this will be used as our objective scale\n",
        "\n"
      ],
      "metadata": {
        "id": "BiasScaleTODOs"
      },
      "execution_count": null,
      "outputs": []
    }
  ]
}
