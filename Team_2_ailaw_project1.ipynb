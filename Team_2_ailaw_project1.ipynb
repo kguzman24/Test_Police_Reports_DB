{
  "nbformat": 4,
  "nbformat_minor": 0,
  "metadata": {
    "colab": {
      "provenance": []
    },
    "kernelspec": {
      "name": "python3",
      "display_name": "Python 3"
    },
    "language_info": {
      "name": "python"
    }
  },
  "cells": [
    {
      "cell_type": "markdown",
      "source": [
        "## Creating our dataset"
      ],
      "metadata": {
        "id": "zOFCZTOv1P40"
      }
    },
    {
      "cell_type": "markdown",
      "source": [
        "## Building the Bias Scale\n"
      ],
      "metadata": {
        "id": "BsZ5G39bk9QN"
      }
    }
  ]
}